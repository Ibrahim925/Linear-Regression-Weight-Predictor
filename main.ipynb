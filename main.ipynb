{
 "cells": [
  {
   "cell_type": "code",
   "execution_count": 17,
   "metadata": {},
   "outputs": [],
   "source": [
    "import matplotlib.pyplot as plt\n",
    "import pandas as pd"
   ]
  },
  {
   "cell_type": "code",
   "execution_count": 18,
   "metadata": {},
   "outputs": [],
   "source": [
    "def get_b_gradient(X, Y, m, b):\n",
    "     N = len(X)\n",
    "     diff = 0\n",
    "     \n",
    "     for i in range(N):\n",
    "          x = X[i]\n",
    "          y = Y[i]\n",
    "          \n",
    "          diff += y - (m * x + b)\n",
    "          \n",
    "     return diff * (-2/N)\n",
    "\n",
    "\n",
    "def get_m_gradient(X, Y, m, b):\n",
    "    N = len(X)\n",
    "    diff = 0\n",
    "\n",
    "    for i in range(N):\n",
    "         x = X[i]\n",
    "         y = Y[i]\n",
    "\n",
    "         diff += x * (y - (m * x + b))\n",
    "\n",
    "    return diff * (-2/N)\n",
    "\n",
    "def cost(Y, Y_pred):\n",
    "     N = len(Y)\n",
    "     diff = 0\n",
    "     \n",
    "     for i in range(N):\n",
    "          y = Y[i]\n",
    "          pred = Y_pred[i]\n",
    "          \n",
    "          diff += (pred - y) ** 2\n",
    "          \n",
    "     return diff / N"
   ]
  },
  {
   "cell_type": "code",
   "execution_count": 19,
   "metadata": {},
   "outputs": [],
   "source": [
    "def step_gradient(X, Y, m_curr, b_curr, learning_rate):\n",
    "     b_gradient = get_b_gradient(X, Y, m_curr, b_curr)\n",
    "     m_gradient = get_m_gradient(X, Y, m_curr, b_curr)\n",
    "     \n",
    "     b = b_curr - (learning_rate * b_gradient)\n",
    "     m = m_curr - (learning_rate * m_gradient)\n",
    "     \n",
    "     return m, b\n",
    "\n",
    "def gradient_descent(X, Y, learning_rate, epochs):\n",
    "     m, b = 0, 0\n",
    "     \n",
    "     for i in range(epochs):\n",
    "          m, b = step_gradient(X, Y, m, b, learning_rate)\n",
    "          \n",
    "     return m, b"
   ]
  },
  {
   "cell_type": "code",
   "execution_count": 20,
   "metadata": {},
   "outputs": [
    {
     "data": {
      "image/png": "[encoded data removed]",
      "text/plain": [
       "<Figure size 432x288 with 1 Axes>"
      ]
     },
     "metadata": {
      "needs_background": "light"
     },
     "output_type": "display_data"
    },
    {
     "name": "stdout",
     "output_type": "stream",
     "text": [
      "Optimal m-value: 1.8734057026069746\n",
      "Optimal b-value: 0.010353680606197567\n"
     ]
    }
   ],
   "source": [
    "df = pd.read_csv(\"heights.csv\")\n",
    "\n",
    "X = df[\"height\"]\n",
    "Y = df[\"weight\"]\n",
    "\n",
    "m, b = gradient_descent(X, Y, 0.0001, 1000)\n",
    "\n",
    "Y_Preds = [m * x + b for x in X]\n",
    "\n",
    "plt.plot(X, Y, \"o\")\n",
    "plt.plot(X, Y_Preds)\n",
    "plt.show()\n",
    "\n",
    "print(\"Optimal m-value: \" + str(m))\n",
    "print(\"Optimal b-value: \" + str(b))"
   ]
  }
 ],
 "metadata": {
  "interpreter": {
   "hash": "98590ff4fe04c8543246b2a01debd3de3c5ca9b666f43f1fa87d5110c692004c"
  },
  "kernelspec": {
   "display_name": "Python 3.10.2 64-bit",
   "language": "python",
   "name": "python3"
  },
  "language_info": {
   "codemirror_mode": {
    "name": "ipython",
    "version": 3
   },
   "file_extension": ".py",
   "mimetype": "text/x-python",
   "name": "python",
   "nbconvert_exporter": "python",
   "pygments_lexer": "ipython3",
   "version": "3.10.2"
  },
  "orig_nbformat": 4
 },
 "nbformat": 4,
 "nbformat_minor": 2
}
